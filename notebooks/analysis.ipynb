{
 "cells": [
  {
   "cell_type": "markdown",
   "id": "436103c2",
   "metadata": {},
   "source": [
    "# Exploratory Data Analysis (EDA)\n",
    "\n",
    "This notebook contains visualizations for understanding the dataset."
   ]
  },
  {
   "cell_type": "code",
   "execution_count": null,
   "id": "bc6a723a",
   "metadata": {},
   "outputs": [],
   "source": [
    "import pandas as pd\n",
    "import numpy as np\n",
    "import matplotlib.pyplot as plt\n",
    "import seaborn as sns\n",
    "\n",
    "# Load Data\n",
    "creditcard = pd.read_csv(\"../data/1.1_UCI_Credit_Card.csv\")\n",
    "creditcard.drop(['ID'],axis=1,inplace=True)\n",
    "\n",
    "# Correlation Heatmap\n",
    "correlations = creditcard.corr()\n",
    "f , ax = plt.subplots(figsize=(20,20))\n",
    "sns.heatmap(correlations,annot=True)\n",
    "plt.show()\n",
    "\n",
    "# Count Plot by Age\n",
    "fig = plt.figure(figsize=(20,20))\n",
    "sns.countplot(x='AGE',hue='default.payment.next.month',data=creditcard)\n",
    "plt.show()\n",
    "\n",
    "# Boxplots for Limit Balance by Sex\n",
    "fig = plt.figure(figsize=(20,20))\n",
    "plt.subplot(211)\n",
    "sns.boxplot(x='SEX',y='LIMIT_BAL',data=creditcard)\n",
    "plt.subplot(212)\n",
    "sns.boxplot(x='SEX',y='LIMIT_BAL',data=creditcard,showfliers=False)\n",
    "plt.show()\n"
   ]
  }
 ],
 "metadata": {},
 "nbformat": 4,
 "nbformat_minor": 5
}
